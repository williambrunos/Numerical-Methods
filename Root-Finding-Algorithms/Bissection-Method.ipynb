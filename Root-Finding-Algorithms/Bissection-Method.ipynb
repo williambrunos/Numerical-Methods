{
 "cells": [
  {
   "cell_type": "code",
   "execution_count": 15,
   "source": [
    "import math"
   ],
   "outputs": [],
   "metadata": {}
  },
  {
   "cell_type": "code",
   "execution_count": 33,
   "source": [
    "e = math.e"
   ],
   "outputs": [],
   "metadata": {}
  },
  {
   "cell_type": "markdown",
   "source": [
    "# Bissection Method\n",
    "\n",
    "This method is used to find the approximate root value $c \\in [a, b]$, $a, b \\in \\mathbb{R}$ , of a function $f: \\mathbb{R} \\rightarrow \\mathbb{R}$.\n",
    "\n",
    "The algorithm consists on the following steps:\n",
    "\n",
    "1) Check if $f(a_0) f(b_0) < 0$: if yes: continue the algorithm, else: raise valueError ($\\textbf{Bolzano Theorem}$: No root in [a, b])\n",
    "\n",
    "2) $ERROR = |a_{k} - b_k|$\n",
    "\n",
    "REPEAT UNTIL ERROR < ERROR_ACCEPTANCE\n",
    "\n",
    "3) $ERROR = |a_{k} - b_k|$\n",
    "\n",
    "4) Calculate $c_k = \\frac{a_k+b_k}{2}$\n",
    "\n",
    "5) If $f(a_k) f(c_k) < 0$, then: $b_{k+1}$ = $c_k$\n",
    "\n",
    "6) Else if $f(c_k) f(b_k) < 0$, then: $a_{k+1}$ = $c_k$\n",
    "\n",
    "\n",
    "\n"
   ],
   "metadata": {}
  },
  {
   "cell_type": "code",
   "execution_count": 34,
   "source": [
    "def bissection_method(function, a, b, error_acceptance):\r\n",
    "    \"\"\"\r\n",
    "    This functions calculates the approximate root value of x for a given function written as a string, the root boundaries a\r\n",
    "    and b and the error acceptance for the result.\r\n",
    "    \r\n",
    "    Parameters:\r\n",
    "    ----------------------------------------------\r\n",
    "    :param function: mathematical function wich will be written as a string and which the root will be calculated\r\n",
    "    :param a: initial lower boundarie of the interval\r\n",
    "    :param b: initial higher boundarie of the interval\r\n",
    "    :param error_acceptance: the error acceptance between the root found and the real root of the function\r\n",
    "    \r\n",
    "    Return:\r\n",
    "    ----------------------------------------------\r\n",
    "    :return: the point c in the abscissa wich is the approximate root for the function with given error_acceptance\r\n",
    "    \"\"\"\r\n",
    "    \r\n",
    "    def f(x):\r\n",
    "        f = eval(function)\r\n",
    "        return f\r\n",
    "    \r\n",
    "    error = abs(b - a)\r\n",
    "    \r\n",
    "    while error > error_acceptance:\r\n",
    "        c = (b + a) / 2\r\n",
    "        if f(a) * f(b) >= 0:\r\n",
    "            raise ValueError(f'There is no root for this function between {a} and {b}')\r\n",
    "        elif f(a) * f(c) < 0:\r\n",
    "            b = c\r\n",
    "            error = abs(b - a)\r\n",
    "        elif f(c) * f(b) < 0:\r\n",
    "            a  = c\r\n",
    "            error = abs(b - a)\r\n",
    "        else:\r\n",
    "            print('Something wen wrong...')\r\n",
    "    \r\n",
    "    c = (a +b) / 2\r\n",
    "    return c"
   ],
   "outputs": [],
   "metadata": {}
  },
  {
   "cell_type": "code",
   "execution_count": 31,
   "source": [
    "print(bissection_method(\"((x+1)**2) * e**(x**2 - 2) - 1\", 0, 1, 0.1))"
   ],
   "outputs": [
    {
     "output_type": "stream",
     "name": "stdout",
     "text": [
      "0.84375\n"
     ]
    }
   ],
   "metadata": {}
  },
  {
   "cell_type": "code",
   "execution_count": 35,
   "source": [
    "print(bissection_method.__doc__)"
   ],
   "outputs": [
    {
     "output_type": "stream",
     "name": "stdout",
     "text": [
      "\n",
      "    This functions calculates the approximate root value of x for a given function written as a string, the root boundaries a\n",
      "    and b and the error acceptance for the result.\n",
      "    \n",
      "    Parameters:\n",
      "    ----------------------------------------------\n",
      "    :param function: mathmatical function wich will be written as a string and which the root will be calculated\n",
      "    :param a: initial lower boundarie of the interval\n",
      "    :param b: initial higher boundarie of the interval\n",
      "    :param error_acceptance: the error acceptance between the root found and the real root of the function\n",
      "    \n",
      "    Return:\n",
      "    ----------------------------------------------\n",
      "    :return: the point c in the abscissa wich is the approximate root for the function with given error_acceptance\n",
      "    \n"
     ]
    }
   ],
   "metadata": {}
  }
 ],
 "metadata": {
  "kernelspec": {
   "display_name": "Python 3",
   "language": "python",
   "name": "python3"
  },
  "language_info": {
   "codemirror_mode": {
    "name": "ipython",
    "version": 3
   },
   "file_extension": ".py",
   "mimetype": "text/x-python",
   "name": "python",
   "nbconvert_exporter": "python",
   "pygments_lexer": "ipython3",
   "version": "3.8.8"
  }
 },
 "nbformat": 4,
 "nbformat_minor": 5
}