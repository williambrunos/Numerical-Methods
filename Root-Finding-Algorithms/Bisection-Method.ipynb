{
 "cells": [
  {
   "cell_type": "code",
   "execution_count": 39,
   "id": "d5621355",
   "metadata": {},
   "outputs": [],
   "source": [
    "import math\n",
    "import numpy as np\n",
    "import matplotlib.pyplot as plt"
   ]
  },
  {
   "cell_type": "code",
   "execution_count": 33,
   "id": "0698f66f",
   "metadata": {},
   "outputs": [],
   "source": [
    "e = math.e"
   ]
  },
  {
   "cell_type": "markdown",
   "id": "057294aa",
   "metadata": {},
   "source": [
    "# Bissection Method\n",
    "\n",
    "This method is used to find the approximate root value $c \\in [a, b]$, $a, b \\in \\mathbb{R}$ , of a function $f: \\mathbb{R} \\rightarrow \\mathbb{R}$.\n",
    "\n",
    "The algorithm consists on the following steps:\n",
    "\n",
    "1) Check if $f(a_0) f(b_0) < 0$: if yes: continue the algorithm, else: raise valueError ($\\textbf{Bolzano Theorem}$: No root in [a, b])\n",
    "\n",
    "2) $ERROR = |a_{k} - b_k|$\n",
    "\n",
    "REPEAT UNTIL ERROR < ERROR_ACCEPTANCE\n",
    "\n",
    "3) $ERROR = |a_{k} - b_k|$\n",
    "\n",
    "4) Calculate $c_k = \\frac{a_k+b_k}{2}$\n",
    "\n",
    "5) If $f(a_k) f(c_k) < 0$, then: $b_{k+1}$ = $c_k$\n",
    "\n",
    "6) Else if $f(c_k) f(b_k) < 0$, then: $a_{k+1}$ = $c_k$\n",
    "\n",
    "\n",
    "\n"
   ]
  },
  {
   "cell_type": "code",
   "execution_count": 46,
   "id": "5e2d2f65",
   "metadata": {},
   "outputs": [],
   "source": [
    "def arbitrary_function(function):\n",
    "    return eval(function)"
   ]
  },
  {
   "cell_type": "code",
   "execution_count": 44,
   "id": "e7fc5119",
   "metadata": {},
   "outputs": [],
   "source": [
    "def bisection_method(function, a, b, error_acceptance):\n",
    "    \"\"\"\n",
    "    This functions calculates the approximate root value of x for a given function written as a string, the root boundaries a\n",
    "    and b and the error acceptance for the result.\n",
    "    \n",
    "    Parameters:\n",
    "    ----------------------------------------------\n",
    "    :param function: mathmatical function wich will be written as a string and which the root will be calculated\n",
    "    :param a: initial lower boundarie of the interval\n",
    "    :param b: initial higher boundarie of the interval\n",
    "    :param error_acceptance: the error acceptance between the root found and the real root of the function\n",
    "    \n",
    "    Return:\n",
    "    ----------------------------------------------\n",
    "    :return: the point c in the abscissa wich is the approximate root for the function with given error_acceptance\n",
    "    \"\"\"\n",
    "    def f(x):\n",
    "        f = eval(function)\n",
    "        return f\n",
    "    \n",
    "    error = abs(b - a)\n",
    "    \n",
    "    while error > error_acceptance:\n",
    "        c = (b + a) / 2\n",
    "        if f(a) * f(b) >= 0:\n",
    "            raise ValueError(f'There is no root for this function between {a} and {b}')\n",
    "        elif f(a) * f(c) < 0:\n",
    "            b = c\n",
    "            error = abs(b - a)\n",
    "        elif f(c) * f(b) < 0:\n",
    "            a  = c\n",
    "            error = abs(b - a)\n",
    "        else:\n",
    "            print('Something wen wrong...')\n",
    "    \n",
    "    c = (a +b) / 2\n",
    "    return c"
   ]
  },
  {
   "cell_type": "code",
   "execution_count": 45,
   "id": "0b0d4bb0",
   "metadata": {},
   "outputs": [
    {
     "name": "stdout",
     "output_type": "stream",
     "text": [
      "0.84375\n"
     ]
    }
   ],
   "source": [
    "print(bisection_method(\"((x+1)**2) * e**(x**2 - 2) - 1\", 0, 1, 0.1))"
   ]
  },
  {
   "cell_type": "code",
   "execution_count": 38,
   "id": "60d5b982",
   "metadata": {},
   "outputs": [
    {
     "name": "stdout",
     "output_type": "stream",
     "text": [
      "\n",
      "    This functions calculates the approximate root value of x for a given function written as a string, the root boundaries a\n",
      "    and b and the error acceptance for the result.\n",
      "    \n",
      "    Parameters:\n",
      "    ----------------------------------------------\n",
      "    :param function: mathmatical function wich will be written as a string and which the root will be calculated\n",
      "    :param a: initial lower boundarie of the interval\n",
      "    :param b: initial higher boundarie of the interval\n",
      "    :param error_acceptance: the error acceptance between the root found and the real root of the function\n",
      "    \n",
      "    Return:\n",
      "    ----------------------------------------------\n",
      "    :return: the point c in the abscissa wich is the approximate root for the function with given error_acceptance\n",
      "    \n"
     ]
    }
   ],
   "source": [
    "print(bisection_method.__doc__)"
   ]
  },
  {
   "cell_type": "code",
   "execution_count": 53,
   "id": "f9c5a707",
   "metadata": {},
   "outputs": [
    {
     "data": {
      "image/png": "[encoded data removed]",
      "text/plain": [
       "<Figure size 432x288 with 1 Axes>"
      ]
     },
     "metadata": {
      "needs_background": "light"
     },
     "output_type": "display_data"
    }
   ],
   "source": [
    "x = np.linspace(0, 1, 100)\n",
    "plt.plot(x, arbitrary_function(\"((x+1)**2) * e**(x**2 - 2) - 1\"))\n",
    "plt.grid()\n",
    "plt.show()"
   ]
  }
 ],
 "metadata": {
  "kernelspec": {
   "display_name": "Python 3",
   "language": "python",
   "name": "python3"
  },
  "language_info": {
   "codemirror_mode": {
    "name": "ipython",
    "version": 3
   },
   "file_extension": ".py",
   "mimetype": "text/x-python",
   "name": "python",
   "nbconvert_exporter": "python",
   "pygments_lexer": "ipython3",
   "version": "3.8.8"
  }
 },
 "nbformat": 4,
 "nbformat_minor": 5
}
