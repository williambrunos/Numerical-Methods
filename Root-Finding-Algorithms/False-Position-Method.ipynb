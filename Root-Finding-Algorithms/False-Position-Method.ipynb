{
 "cells": [
  {
   "cell_type": "code",
   "execution_count": 16,
   "id": "388fd54b",
   "metadata": {},
   "outputs": [],
   "source": [
    "import math\n",
    "import matplotlib.pyplot as plt\n",
    "import numpy as np"
   ]
  },
  {
   "cell_type": "code",
   "execution_count": 3,
   "id": "bb0a0041",
   "metadata": {},
   "outputs": [],
   "source": [
    "e = math.e"
   ]
  },
  {
   "cell_type": "code",
   "execution_count": null,
   "id": "28f472eb",
   "metadata": {},
   "outputs": [],
   "source": []
  },
  {
   "cell_type": "code",
   "execution_count": 17,
   "id": "c8107759",
   "metadata": {},
   "outputs": [],
   "source": [
    "def arbitrary_function(function, x):\n",
    "    f = eval(function)\n",
    "    return f"
   ]
  },
  {
   "cell_type": "code",
   "execution_count": 11,
   "id": "4b229c1a",
   "metadata": {},
   "outputs": [],
   "source": [
    "def false_position_method(function, a, b, error_acceptance):\n",
    "    def f(x):\n",
    "        f = eval(function)\n",
    "        return f\n",
    "    \n",
    "    c = (a * f(b) - b * f(a)) / (f(b) - f(a))\n",
    "    error = abs(f(c))\n",
    "    \n",
    "    while error > error_acceptance:\n",
    "        if f(a) * f(c) < 0:\n",
    "            b = c\n",
    "        elif f(c) * f(b) < 0:\n",
    "            a = c\n",
    "        else:\n",
    "            print('Something went wrong...')\n",
    "            \n",
    "        c = (a * f(b) - b * f(a)) / (f(b) - f(a))\n",
    "        error = abs(f(c))\n",
    "    \n",
    "    return c"
   ]
  },
  {
   "cell_type": "code",
   "execution_count": 14,
   "id": "48b24094",
   "metadata": {},
   "outputs": [
    {
     "name": "stdout",
     "output_type": "stream",
     "text": [
      "1.2564312086257454\n"
     ]
    }
   ],
   "source": [
    "print(false_position_method(\"e**x - 2*x - 1\", 1, 2, 1e-12))"
   ]
  },
  {
   "cell_type": "code",
   "execution_count": 19,
   "id": "7ee5ad9c",
   "metadata": {},
   "outputs": [
    {
     "data": {
      "image/png": "[encoded data removed]",
      "text/plain": [
       "<Figure size 432x288 with 1 Axes>"
      ]
     },
     "metadata": {
      "needs_background": "light"
     },
     "output_type": "display_data"
    }
   ],
   "source": [
    "x = np.linspace(0, 5, 100)\n",
    "plt.plot(x, arbitrary_function(\"e**x - 2*x - 1\", x));"
   ]
  }
 ],
 "metadata": {
  "kernelspec": {
   "display_name": "Python 3",
   "language": "python",
   "name": "python3"
  },
  "language_info": {
   "codemirror_mode": {
    "name": "ipython",
    "version": 3
   },
   "file_extension": ".py",
   "mimetype": "text/x-python",
   "name": "python",
   "nbconvert_exporter": "python",
   "pygments_lexer": "ipython3",
   "version": "3.8.8"
  }
 },
 "nbformat": 4,
 "nbformat_minor": 5
}
